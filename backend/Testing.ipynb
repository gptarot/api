{
 "cells": [
  {
   "cell_type": "code",
   "execution_count": 1,
   "id": "3b541ae7",
   "metadata": {},
   "outputs": [],
   "source": [
    "import json\n",
    "import openai\n",
    "import os\n",
    "import shutil\n",
    "import time"
   ]
  },
  {
   "cell_type": "code",
   "execution_count": 2,
   "id": "da336925",
   "metadata": {},
   "outputs": [],
   "source": [
    "f = open('api/prompt.json')\n",
    "data = json.load(f)\n",
    "f.close()"
   ]
  },
  {
   "cell_type": "code",
   "execution_count": 3,
   "id": "b72c5996",
   "metadata": {},
   "outputs": [
    {
     "data": {
      "text/plain": [
       "{'asker': 'Ăng Seng',\n",
       " 'dob': '05/06/1999',\n",
       " 'question': 'Khi nào tôi cưới được vợ?',\n",
       " 'past-card': {'name': 'Chariot', 'isUpRight': False},\n",
       " 'present-card': {'name': 'The Fool', 'isUpRight': True},\n",
       " 'future-card': {'name': 'The Magician', 'isUpRight': True}}"
      ]
     },
     "execution_count": 3,
     "metadata": {},
     "output_type": "execute_result"
    }
   ],
   "source": [
    "data"
   ]
  },
  {
   "cell_type": "code",
   "execution_count": 4,
   "id": "c115f35b",
   "metadata": {},
   "outputs": [],
   "source": [
    "asker = data[\"asker\"]\n",
    "dob = data[\"dob\"]\n",
    "question = data[\"question\"]\n",
    "past_card = data"
   ]
  },
  {
   "cell_type": "code",
   "execution_count": null,
   "id": "5280407f",
   "metadata": {},
   "outputs": [],
   "source": []
  }
 ],
 "metadata": {
  "kernelspec": {
   "display_name": "Python 3 (ipykernel)",
   "language": "python",
   "name": "python3"
  },
  "language_info": {
   "codemirror_mode": {
    "name": "ipython",
    "version": 3
   },
   "file_extension": ".py",
   "mimetype": "text/x-python",
   "name": "python",
   "nbconvert_exporter": "python",
   "pygments_lexer": "ipython3",
   "version": "3.10.9"
  }
 },
 "nbformat": 4,
 "nbformat_minor": 5
}
